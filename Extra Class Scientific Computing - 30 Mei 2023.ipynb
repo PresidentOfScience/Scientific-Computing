{
 "cells": [
  {
   "cell_type": "code",
   "execution_count": 1,
   "metadata": {},
   "outputs": [],
   "source": [
    "# Gauss Seidel\n",
    "\n",
    "# x = 1\n",
    "# y = 2\n",
    "# z = 3\n",
    "\n",
    "# 3x + y + z = 8\n",
    "# x + 3y + z = 10\n",
    "# x + y + 3z = 12\n",
    "\n",
    "# x = (-y - z + 8)/3\n",
    "# y = (-x - z + 10)/3\n",
    "# z = (-x - y + 12)/3"
   ]
  },
  {
   "cell_type": "code",
   "execution_count": 2,
   "metadata": {},
   "outputs": [
    {
     "name": "stdout",
     "output_type": "stream",
     "text": [
      "[0.99969073 1.9997941  3.00017172]\n"
     ]
    }
   ],
   "source": [
    "import numpy as np\n",
    "import matplotlib.pyplot as plt\n",
    "\n",
    "# Kasih 2 array\n",
    "x = np.array([\n",
    "    [3,1,1],\n",
    "    [1,3,1],\n",
    "    [1,1,3]\n",
    "])\n",
    "y = np.array(\n",
    "    [8, 10, 12]\n",
    ")\n",
    "\n",
    "def gauss_seidel(x, y, tol=0.01):\n",
    "    # Validasi diagonally dominant\n",
    "    diag = np.array(np.diag(x))\n",
    "    np.fill_diagonal(x, 0)\n",
    "    nonDiag = np.sum(x, axis=1)\n",
    "\n",
    "    if not np.all(diag > nonDiag):\n",
    "        print(\"Not Diagonally Dominant\")\n",
    "        return\n",
    "\n",
    "    # Mencari nilai x, y, z\n",
    "    x = -x\n",
    "    old_matrix = np.zeros(np.shape(x[0]))\n",
    "\n",
    "    while True:\n",
    "        new_matrix = np.array(old_matrix)\n",
    "        for i, row in enumerate(x):\n",
    "            new_matrix[i] = (y[i] + np.dot(new_matrix, row))/diag[i]\n",
    "        \n",
    "        err = np.sqrt(np.dot(new_matrix - old_matrix, new_matrix - old_matrix))\n",
    "        if(err < tol):\n",
    "            print(new_matrix)\n",
    "            return\n",
    "        old_matrix = new_matrix\n",
    "\n",
    "gauss_seidel(x, y)\n"
   ]
  },
  {
   "cell_type": "code",
   "execution_count": 3,
   "metadata": {},
   "outputs": [
    {
     "name": "stdout",
     "output_type": "stream",
     "text": [
      "Akar dari persamaan:  2.0000051812194735\n"
     ]
    }
   ],
   "source": [
    "# Newton-Raphson\n",
    "# Root Finding\n",
    "\n",
    "# x**2 - 4\n",
    "\n",
    "# xn+1 = x - f(x)/f'(x)\n",
    "\n",
    "f = lambda x: x**2 - 4\n",
    "df = lambda x: 2*x\n",
    "\n",
    "def newton_raphson(f, df, x, tol=0.01):\n",
    "    if(np.abs(f(x)) < tol):\n",
    "        print(\"Akar dari persamaan: \", x)\n",
    "        return\n",
    "    \n",
    "    newValue = x - f(x)/df(x)\n",
    "    return newton_raphson(f, df, newValue)\n",
    "\n",
    "newton_raphson(f, df, 5)"
   ]
  },
  {
   "cell_type": "code",
   "execution_count": 4,
   "metadata": {},
   "outputs": [
    {
     "name": "stdout",
     "output_type": "stream",
     "text": [
      "Left Riemann:  355.9506172839506\n",
      "Right Riemann:  412.83950617283944\n",
      "Mid Riemann:  383.8024691358024\n",
      "Trapezoid:  384.395061728395\n"
     ]
    }
   ],
   "source": [
    "# Riemann Integral\n",
    "\n",
    "def f(x):\n",
    "    return 3*x**2 + 2*x + 7\n",
    "\n",
    "a = 3   # Lower Limit\n",
    "b = 7   # Upper Limit\n",
    "\n",
    "n = 10  # 10 titik, 9 kotak\n",
    "\n",
    "x = np.linspace(a, b, n)\n",
    "y = f(x)\n",
    "\n",
    "lebar_kotak = (b-a)/(n-1)\n",
    "\n",
    "# plt.plot(x, y, \"o\")\n",
    "\n",
    "leftRiemann = lebar_kotak * sum(y[0:n-1])\n",
    "rightRiemann = lebar_kotak * sum(y[1:n])\n",
    "\n",
    "x_mid = (x[0:n-1] + x[1:n])/2\n",
    "y_mid = f(x_mid)\n",
    "\n",
    "midRiemann = lebar_kotak * sum(y_mid)\n",
    "\n",
    "trapezoid = (y[0] + y[n-1] + 2*sum(y[1:n-1])) * lebar_kotak / 2\n",
    "\n",
    "print(\"Left Riemann: \", leftRiemann)\n",
    "print(\"Right Riemann: \", rightRiemann)\n",
    "print(\"Mid Riemann: \", midRiemann)\n",
    "print(\"Trapezoid: \", trapezoid)"
   ]
  },
  {
   "cell_type": "code",
   "execution_count": 5,
   "metadata": {},
   "outputs": [
    {
     "name": "stdout",
     "output_type": "stream",
     "text": [
      "[[1.7]\n",
      " [0.7]]\n",
      "[[1.7]\n",
      " [0.7]]\n"
     ]
    },
    {
     "data": {
      "image/png": "[encoded data removed]",
      "text/plain": [
       "<Figure size 640x480 with 1 Axes>"
      ]
     },
     "metadata": {},
     "output_type": "display_data"
    }
   ],
   "source": [
    "# Least Square Regression\n",
    "\n",
    "x = [1, 2, 3, 4, 5]\n",
    "y = [2, 6, 4, 7, 10]\n",
    "\n",
    "x = np.array(x)\n",
    "y = np.array(y)\n",
    "\n",
    "A = np.vstack((x, np.ones(len(x)))).T\n",
    "y = y[:, np.newaxis]\n",
    "\n",
    "# Direct Inverse\n",
    "alpha = np.dot(np.dot(np.linalg.inv(np.dot(A.T, A)), A.T), y)\n",
    "print(alpha)\n",
    "\n",
    "plt.plot(x, y, \"o\")\n",
    "plt.plot(x, alpha[0]*x + alpha[1], \"r\")\n",
    "\n",
    "# Pseudo-inverse\n",
    "pseudoinverse = np.linalg.pinv(A)\n",
    "alpha_pseudo = np.dot(pseudoinverse, y)\n",
    "print(alpha_pseudo)"
   ]
  }
 ],
 "metadata": {
  "kernelspec": {
   "display_name": "Python 3.7.6 ('comp_sci')",
   "language": "python",
   "name": "python3"
  },
  "language_info": {
   "codemirror_mode": {
    "name": "ipython",
    "version": 3
   },
   "file_extension": ".py",
   "mimetype": "text/x-python",
   "name": "python",
   "nbconvert_exporter": "python",
   "pygments_lexer": "ipython3",
   "version": "3.7.6"
  },
  "orig_nbformat": 4,
  "vscode": {
   "interpreter": {
    "hash": "e7eefefbece4c1ce285a64266fb2d1f751dfb1b5fce7fe7061282bbabf470c75"
   }
  }
 },
 "nbformat": 4,
 "nbformat_minor": 2
}
