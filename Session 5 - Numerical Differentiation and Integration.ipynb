{
 "cells": [
  {
   "cell_type": "code",
   "execution_count": 2,
   "metadata": {},
   "outputs": [],
   "source": [
    "# Integral -> menghitung luas daerah di bawah kurva\n",
    "# Riemann Integral -> menghitung luas daerah di bawah kurva, dengan membagi area di bawah kurva menjadi kotak-kotak, lalu luas dihitung dari luas kotak-kotak tersebut"
   ]
  },
  {
   "cell_type": "code",
   "execution_count": 12,
   "metadata": {},
   "outputs": [],
   "source": [
    "import numpy as np\n",
    "import matplotlib.pyplot as plt"
   ]
  },
  {
   "cell_type": "code",
   "execution_count": 13,
   "metadata": {},
   "outputs": [],
   "source": [
    "def f(x):\n",
    "    return x**2 - 5"
   ]
  },
  {
   "cell_type": "code",
   "execution_count": 22,
   "metadata": {},
   "outputs": [],
   "source": [
    "# Buat variabel untuk lower limit dan upper limit\n",
    "a = 2     # Lower Limit\n",
    "b = 5     # Upper Limit\n",
    "\n",
    "# Buat variabel untuk jumlah titik\n",
    "n = 7     # 6 kotak\n",
    "\n",
    "# Tentukan lebar kotak\n",
    "lebar_kotak = (b-a)/(n-1)\n",
    "\n",
    "# Tentukan titik-titik x (menggunakan linspace -> mereturn array dari interval yang diberikan, elemen yang direturn sebanyak n, dan jarak antarelemen akan sama)\n",
    "x = np.linspace(a, b, n)\n",
    "y = f(x)"
   ]
  },
  {
   "cell_type": "code",
   "execution_count": 39,
   "metadata": {},
   "outputs": [
    {
     "name": "stdout",
     "output_type": "stream",
     "text": [
      "Left Riemann:  18.875\n",
      "Right Riemann:  29.375\n",
      "Mid Riemann:  23.9375\n",
      "Trapezoid:  24.125\n",
      "Trapezoid:  24.125\n"
     ]
    }
   ],
   "source": [
    "# Left Riemann\n",
    "left_Riemann = lebar_kotak * sum(y[:n-1])\n",
    "print(\"Left Riemann: \", left_Riemann)\n",
    "\n",
    "# Right Riemann\n",
    "right_Riemann = lebar_kotak * sum(y[1:])\n",
    "print(\"Right Riemann: \", right_Riemann)\n",
    "\n",
    "# Mid Riemann\n",
    "x_mid = (x[:n-1] + x[1:])/2\n",
    "y_mid = f(x_mid)\n",
    "mid_Riemann = lebar_kotak * sum(y_mid)\n",
    "print(\"Mid Riemann: \", mid_Riemann)\n",
    "\n",
    "# Trapezoid\n",
    "trapezoid = lebar_kotak * (y[0] + y[n-1] + 2*sum(y[1:n-1]))/2\n",
    "print(\"Trapezoid: \", trapezoid)\n",
    "trapezoid = lebar_kotak * sum(y[:n-1] + y[1:]) / 2\n",
    "print(\"Trapezoid: \", trapezoid)"
   ]
  }
 ],
 "metadata": {
  "kernelspec": {
   "display_name": "Python 3.7.6 ('comp_sci')",
   "language": "python",
   "name": "python3"
  },
  "language_info": {
   "codemirror_mode": {
    "name": "ipython",
    "version": 3
   },
   "file_extension": ".py",
   "mimetype": "text/x-python",
   "name": "python",
   "nbconvert_exporter": "python",
   "pygments_lexer": "ipython3",
   "version": "3.7.6"
  },
  "orig_nbformat": 4,
  "vscode": {
   "interpreter": {
    "hash": "e7eefefbece4c1ce285a64266fb2d1f751dfb1b5fce7fe7061282bbabf470c75"
   }
  }
 },
 "nbformat": 4,
 "nbformat_minor": 2
}
