{
  "nbformat": 4,
  "nbformat_minor": 0,
  "metadata": {
    "colab": {
      "provenance": []
    },
    "kernelspec": {
      "name": "python3",
      "display_name": "Python 3"
    },
    "language_info": {
      "name": "python"
    }
  },
  "cells": [
    {
      "cell_type": "code",
      "execution_count": null,
      "metadata": {
        "id": "_1RYWQIuo1Zb"
      },
      "outputs": [],
      "source": [
        "# Matplotlib -> library Python utk plotting dan visualisasi data\n",
        "\n",
        "import numpy as np\n",
        "import matplotlib.pyplot as plt"
      ]
    },
    {
      "cell_type": "code",
      "source": [
        "# Coba plot biasa\n",
        "# Sediakan data berupa koordinat titiknya\n",
        "\n",
        "x = [1,2,3,4,5,6,7,8]\n",
        "y = [2,5,1,7,9,3,6,10]\n",
        "\n",
        "# Ganti jadi numpy array\n",
        "\n",
        "x = np.array(x)\n",
        "y = np.array(y)\n",
        "\n",
        "# Masuk ke plot\n",
        "plt.plot(x, y, \"b.\")\n",
        "plt.show()"
      ],
      "metadata": {
        "colab": {
          "base_uri": "https://localhost:8080/",
          "height": 265
        },
        "id": "XTYV3645p_Qy",
        "outputId": "cacffb14-20b4-49f5-95c0-92e7822a618c"
      },
      "execution_count": null,
      "outputs": [
        {
          "output_type": "display_data",
          "data": {
            "text/plain": [
              "<Figure size 432x288 with 1 Axes>"
            ],
            "image/png": "[encoded data removed]"
          },
          "metadata": {
            "needs_background": "light"
          }
        }
      ]
    },
    {
      "cell_type": "code",
      "source": [
        "# Regression -> Menarik garis yang menjadi representasi dari data kita\n",
        "\n",
        "# Least Square Regression\n",
        "\n",
        "# y = mx + c\n",
        "\n",
        "# alpha[0] = m\n",
        "# alpha[1] = c\n",
        "\n",
        "# Cari A\n",
        "A = np.vstack((x, np.ones(len(x)))).T\n",
        "y_new = y[:, np.newaxis]\n",
        "\n",
        "# alpha = (AT.A)^-1 * AT * Y\n",
        "\n",
        "alpha = np.dot(np.dot(np.linalg.inv(np.dot(A.T, A)), A.T), y_new)\n",
        "pinv = np.linalg.pinv(A)\n",
        "alpha2 = np.dot(pinv, y_new)\n",
        "print(alpha)\n",
        "print(alpha2)\n",
        "\n",
        "plt.plot(x, y, \"b.\")\n",
        "plt.plot(x, alpha2[0]*x+alpha2[1], \"r\")\n",
        "plt.show()"
      ],
      "metadata": {
        "colab": {
          "base_uri": "https://localhost:8080/",
          "height": 334
        },
        "id": "rHe0XT0ZsRZg",
        "outputId": "eaae7aaf-6000-4c25-adda-a41f76eee0a7"
      },
      "execution_count": null,
      "outputs": [
        {
          "output_type": "stream",
          "name": "stdout",
          "text": [
            "[[0.82142857]\n",
            " [1.67857143]]\n",
            "[[0.82142857]\n",
            " [1.67857143]]\n"
          ]
        },
        {
          "output_type": "display_data",
          "data": {
            "text/plain": [
              "<Figure size 432x288 with 1 Axes>"
            ],
            "image/png": "[encoded data removed]"
          },
          "metadata": {
            "needs_background": "light"
          }
        }
      ]
    },
    {
      "cell_type": "code",
      "source": [
        "# Interpolation -> Kita ingin memprediksi data dari range data yang sudah ada\n",
        "\n",
        "# Linear Interpolation\n",
        "\n",
        "from scipy.interpolate import interp1d\n",
        "\n",
        "x = [0,1,2]\n",
        "y = [1,3,2]\n",
        "\n",
        "x = np.array(x)\n",
        "y = np.array(y)\n",
        "\n",
        "# f -> function linear interpolation\n",
        "# x_at adalah data di x yang mau diprediksi\n",
        "\n",
        "x_at = 0.5\n",
        "f = interp1d(x, y)\n",
        "\n",
        "# return y_at\n",
        "y_at = f(x_at)\n",
        "\n",
        "plt.plot(x, y, \"-ob\")\n",
        "plt.plot(x_at, y_at, \"r.\")\n",
        "plt.show()"
      ],
      "metadata": {
        "colab": {
          "base_uri": "https://localhost:8080/",
          "height": 265
        },
        "id": "7TBc-pTj1zJh",
        "outputId": "77c42d3c-5b27-4700-9dd4-433312a8d649"
      },
      "execution_count": null,
      "outputs": [
        {
          "output_type": "display_data",
          "data": {
            "text/plain": [
              "<Figure size 432x288 with 1 Axes>"
            ],
            "image/png": "[encoded data removed]"
          },
          "metadata": {
            "needs_background": "light"
          }
        }
      ]
    },
    {
      "cell_type": "code",
      "source": [
        "# Linear Interpolation\n",
        "\n",
        "from scipy.interpolate import CubicSpline\n",
        "\n",
        "x = [0,1,2]\n",
        "y = [1,3,2]\n",
        "\n",
        "x = np.array(x)\n",
        "y = np.array(y)\n",
        "\n",
        "# f -> function cubic spline interpolation\n",
        "\n",
        "f = CubicSpline(x, y)\n",
        "\n",
        "# Find new x dan y\n",
        "x_new = np.linspace(0,2,100)\n",
        "y_new = f(x_new)\n",
        "\n",
        "plt.plot(x, y, \"ro\")\n",
        "plt.plot(x_new, y_new, \"-b\")\n",
        "plt.show()"
      ],
      "metadata": {
        "colab": {
          "base_uri": "https://localhost:8080/",
          "height": 265
        },
        "id": "E-SV9jA35nCO",
        "outputId": "814cfcf0-a678-456a-bbd5-1038bef074a1"
      },
      "execution_count": null,
      "outputs": [
        {
          "output_type": "display_data",
          "data": {
            "text/plain": [
              "<Figure size 432x288 with 1 Axes>"
            ],
            "image/png": "[encoded data removed]"
          },
          "metadata": {
            "needs_background": "light"
          }
        }
      ]
    },
    {
      "cell_type": "code",
      "source": [
        "# Newton Polynomial Interpolation\n",
        "\n",
        "# 1. Difference Table\n",
        "# 2. Newton Poly\n",
        "\n",
        "def divided_diff(x,y):\n",
        "  # Cari panjang y dan tampung ke variabel n\n",
        "  n = len(y)\n",
        "  # Coef untuk tampung hasil, diinisialisasi dengan matriks 0\n",
        "  coef = np.zeros([n,n])\n",
        "  coef[:, 0] = y\n",
        "\n",
        "  for i in range(1,n):\n",
        "    for j in range(n-i):\n",
        "      coef[j][i] = (coef[j+1][i-1] - coef[j][i-1]) / (x[j+i] - x[j])\n",
        "  return coef\n",
        "\n",
        "def newton_poly(coef, x_data, x):\n",
        "  # Mencari Newton Polynomial di titik x\n",
        "  n = len(x_data)\n",
        "  p = coef[n]\n",
        "\n",
        "  for i in range(1, n+1):\n",
        "    p = coef[n-1] + (x - x_data[n-i])*p\n",
        "  return p"
      ],
      "metadata": {
        "id": "8roUmter7EV9"
      },
      "execution_count": null,
      "outputs": []
    },
    {
      "cell_type": "code",
      "source": [
        "x = [-5,-1,0,2]\n",
        "y = [-2,6,1,3]\n",
        "\n",
        "x = np.array(x)\n",
        "y = np.array(y)\n",
        "\n",
        "# Ambil divided coef\n",
        "a_s = divided_diff(x,y)[0, :]\n",
        "\n",
        "# Evaluate point-point dari data yang baru\n",
        "x_new2 = np.arange(-5, 2.1, 0.1)\n",
        "\n",
        "# Panggil fungsi Newton Poly\n",
        "y_new2 = newton_poly(a_s, x, x_new2)\n",
        "\n",
        "plt.plot(x,y,\"bo\")\n",
        "plt.plot(x_new2, y_new2)\n",
        "plt.show()"
      ],
      "metadata": {
        "colab": {
          "base_uri": "https://localhost:8080/",
          "height": 356
        },
        "id": "CYfAcw2S9CED",
        "outputId": "b10895de-6c76-4f59-c70d-c5fc34dedcae"
      },
      "execution_count": null,
      "outputs": [
        {
          "output_type": "error",
          "ename": "IndexError",
          "evalue": "ignored",
          "traceback": [
            "\u001b[0;31m---------------------------------------------------------------------------\u001b[0m",
            "\u001b[0;31mIndexError\u001b[0m                                Traceback (most recent call last)",
            "\u001b[0;32m<ipython-input-10-967b9d6bf03b>\u001b[0m in \u001b[0;36m<module>\u001b[0;34m\u001b[0m\n\u001b[1;32m     12\u001b[0m \u001b[0;34m\u001b[0m\u001b[0m\n\u001b[1;32m     13\u001b[0m \u001b[0;31m# Panggil fungsi Newton Poly\u001b[0m\u001b[0;34m\u001b[0m\u001b[0;34m\u001b[0m\u001b[0m\n\u001b[0;32m---> 14\u001b[0;31m \u001b[0my_new2\u001b[0m \u001b[0;34m=\u001b[0m \u001b[0mnewton_poly\u001b[0m\u001b[0;34m(\u001b[0m\u001b[0ma_s\u001b[0m\u001b[0;34m,\u001b[0m \u001b[0mx\u001b[0m\u001b[0;34m,\u001b[0m \u001b[0mx_new2\u001b[0m\u001b[0;34m)\u001b[0m\u001b[0;34m\u001b[0m\u001b[0;34m\u001b[0m\u001b[0m\n\u001b[0m\u001b[1;32m     15\u001b[0m \u001b[0;34m\u001b[0m\u001b[0m\n\u001b[1;32m     16\u001b[0m \u001b[0mplt\u001b[0m\u001b[0;34m.\u001b[0m\u001b[0mplot\u001b[0m\u001b[0;34m(\u001b[0m\u001b[0mx\u001b[0m\u001b[0;34m,\u001b[0m\u001b[0my\u001b[0m\u001b[0;34m,\u001b[0m\u001b[0;34m\"bo\"\u001b[0m\u001b[0;34m)\u001b[0m\u001b[0;34m\u001b[0m\u001b[0;34m\u001b[0m\u001b[0m\n",
            "\u001b[0;32m<ipython-input-6-d484489ef7f3>\u001b[0m in \u001b[0;36mnewton_poly\u001b[0;34m(coef, x_data, x)\u001b[0m\n\u001b[1;32m     19\u001b[0m   \u001b[0;31m# Mencari Newton Polynomial di titik x\u001b[0m\u001b[0;34m\u001b[0m\u001b[0;34m\u001b[0m\u001b[0m\n\u001b[1;32m     20\u001b[0m   \u001b[0mn\u001b[0m \u001b[0;34m=\u001b[0m \u001b[0mlen\u001b[0m\u001b[0;34m(\u001b[0m\u001b[0mx_data\u001b[0m\u001b[0;34m)\u001b[0m\u001b[0;34m\u001b[0m\u001b[0;34m\u001b[0m\u001b[0m\n\u001b[0;32m---> 21\u001b[0;31m   \u001b[0mp\u001b[0m \u001b[0;34m=\u001b[0m \u001b[0mcoef\u001b[0m\u001b[0;34m[\u001b[0m\u001b[0mn\u001b[0m\u001b[0;34m]\u001b[0m\u001b[0;34m\u001b[0m\u001b[0;34m\u001b[0m\u001b[0m\n\u001b[0m\u001b[1;32m     22\u001b[0m \u001b[0;34m\u001b[0m\u001b[0m\n\u001b[1;32m     23\u001b[0m   \u001b[0;32mfor\u001b[0m \u001b[0mi\u001b[0m \u001b[0;32min\u001b[0m \u001b[0mrange\u001b[0m\u001b[0;34m(\u001b[0m\u001b[0;36m1\u001b[0m\u001b[0;34m,\u001b[0m \u001b[0mn\u001b[0m\u001b[0;34m+\u001b[0m\u001b[0;36m1\u001b[0m\u001b[0;34m)\u001b[0m\u001b[0;34m:\u001b[0m\u001b[0;34m\u001b[0m\u001b[0;34m\u001b[0m\u001b[0m\n",
            "\u001b[0;31mIndexError\u001b[0m: index 4 is out of bounds for axis 0 with size 4"
          ]
        }
      ]
    }
  ]
}
