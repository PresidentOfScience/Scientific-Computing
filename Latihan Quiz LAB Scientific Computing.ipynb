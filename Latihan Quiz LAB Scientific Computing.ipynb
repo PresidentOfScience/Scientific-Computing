{
 "cells": [
  {
   "cell_type": "code",
   "execution_count": 4,
   "metadata": {},
   "outputs": [],
   "source": [
    "import numpy as np\n",
    "import matplotlib.pyplot as plt"
   ]
  },
  {
   "cell_type": "code",
   "execution_count": 5,
   "metadata": {},
   "outputs": [
    {
     "name": "stdout",
     "output_type": "stream",
     "text": [
      "Iter: 1 [10.25   -4.05   -5.8875]\n",
      "Iter: 2 [10.803125   -1.805625   -5.60296875]\n",
      "Iter: 3 [ 9.75207031 -1.70922656 -5.0533418 ]\n",
      "Iter: 4 [ 9.84127783 -1.94691885 -5.15736863]\n",
      "Iter: 5 [ 9.93411727 -1.923876   -5.19802763]\n",
      "Iter: 6 [ 9.91243109 -1.90327516 -5.18203434]\n",
      "Iter: 7 [ 9.906129   -1.90841206 -5.18016752]\n",
      "Convergent\n",
      "\n",
      "Not diagonally dominant\n",
      "Not convergent\n",
      "\n",
      "Iter: 1 [ 6.11111111 -3.27777778  3.35353535 -0.56515152]\n",
      "Iter: 2 [ 4.39046016 -1.79729938  2.40957938 -1.16463403]\n",
      "Iter: 3 [ 5.16732568 -2.00269881  2.44080351 -0.95388592]\n",
      "Iter: 4 [ 5.06444041 -2.04820201  2.49765287 -0.97218189]\n",
      "Iter: 5 [ 5.03944457 -2.02087972  2.47921505 -0.98169018]\n",
      "Iter: 6 [ 5.05377509 -2.02550619  2.48050699 -0.97769452]\n",
      "Convergent\n",
      "\n"
     ]
    }
   ],
   "source": [
    "Xs = [\n",
    "    [\n",
    "      [4, 2, -1],\n",
    "      [1, -5, 2],\n",
    "      [2, -1, -4]\n",
    "    ],\n",
    "    [\n",
    "      [3, 4, 5],\n",
    "      [-3, 7, -4],\n",
    "      [1, -4, -2]\n",
    "    ],\n",
    "    [\n",
    "      [9, -2, 3, 2],\n",
    "      [2, 8, -2, 3],\n",
    "      [-3, 2, 11, -4],\n",
    "      [-2, 3, 2, 10]\n",
    "    ]\n",
    "]\n",
    "Ys = [\n",
    "    [41, -10, 1],\n",
    "    [34, -32, 62],\n",
    "    [55, -14, 12, -21]\n",
    "]\n",
    "\n",
    "def gauss_seidel(x, y, tol=0.022):\n",
    "    x = np.array(x)\n",
    "    y = np.array(y)\n",
    "\n",
    "    # Validasi diagonally dominant\n",
    "    diag = np.array(np.diag(np.abs(x)))\n",
    "    np.fill_diagonal(x, 0)\n",
    "    nonDiag = np.sum(np.abs(x), axis=1)\n",
    "\n",
    "    if not np.all(diag > nonDiag):\n",
    "        print(\"Not diagonally dominant\")\n",
    "        return False\n",
    "    \n",
    "    # Hitung nilai x, y, z\n",
    "    x = -x\n",
    "    old_matrix = np.zeros(np.shape(x[0]))\n",
    "    \n",
    "    for n in range(1, 16):\n",
    "        new_matrix = np.array(old_matrix)\n",
    "        for i, row in enumerate(x):\n",
    "            new_matrix[i] = (y[i] + np.dot(new_matrix, row))/diag[i]\n",
    "        \n",
    "        print(f\"Iter: {n} {new_matrix}\")\n",
    "        e = np.sqrt(np.dot(new_matrix-old_matrix, new_matrix-old_matrix))\n",
    "\n",
    "        if(e < tol):\n",
    "            return True\n",
    "\n",
    "        old_matrix = new_matrix\n",
    "    \n",
    "    return False\n",
    "\n",
    "for i in range(3):\n",
    "    if gauss_seidel(Xs[i], Ys[i]):\n",
    "        print(\"Convergent\\n\")\n",
    "    else:\n",
    "        print(\"Not convergent\\n\")"
   ]
  },
  {
   "cell_type": "code",
   "execution_count": 6,
   "metadata": {},
   "outputs": [
    {
     "name": "stdout",
     "output_type": "stream",
     "text": [
      "Iteration of 1: 3.330357142857143\n",
      "Iteration of 2: 2.7705278067251076\n",
      "Iteration of 3: 2.3014692834655897\n",
      "Iteration of 4: 1.9076486911265778\n",
      "Iteration of 5: 1.5780738506315775\n",
      "Iteration of 6: 1.3101344278134677\n",
      "Iteration of 7: 1.1168277838634215\n",
      "Iteration of 8: 1.0204619280744585\n",
      "Iteration of 9: 1.0006965918207418\n",
      "The root of equation is:  1.0006965918207418\n"
     ]
    }
   ],
   "source": [
    "def f(x):\n",
    "    return x**6 + 2*x**2 - 3\n",
    "\n",
    "def df(x):\n",
    "    return 6*x**5 + 4*x\n",
    "\n",
    "def newton_raphson(f, df, x, n, tol=0.01):\n",
    "    while(n <= 15):\n",
    "        if(np.abs(f(x)) < tol):\n",
    "            print(\"The root of equation is: \", x)\n",
    "            return\n",
    "        \n",
    "        newValue = x - f(x)/df(x)\n",
    "        print(f\"Iteration of {n}: {newValue}\")\n",
    "        return newton_raphson(f, df, newValue, n+1)\n",
    "\n",
    "newton_raphson(f, df, 4, 1)"
   ]
  },
  {
   "cell_type": "code",
   "execution_count": 7,
   "metadata": {},
   "outputs": [
    {
     "name": "stdout",
     "output_type": "stream",
     "text": [
      "Left Riemann =  384.4323034267851\n",
      "Right Riemann =  399.328855150923\n",
      "Mid Riemann =  387.26026006636687\n"
     ]
    }
   ],
   "source": [
    "a = -3\n",
    "b = 3\n",
    "n = 30\n",
    "\n",
    "def f(x):\n",
    "    return 4*x**4 + 2*x**3 - 6*x\n",
    "\n",
    "h = (b-a)/(n-1)\n",
    "\n",
    "x = np.linspace(a, b, n)\n",
    "y = f(x)\n",
    "\n",
    "leftRiemann = h*sum(y[:n-1])\n",
    "rightRiemann = h*sum(y[1:])\n",
    "\n",
    "xMid = (x[:n-1] + x[1:])/2\n",
    "yMid = f(xMid)\n",
    "\n",
    "midRiemann = h*sum(yMid)\n",
    "\n",
    "print(\"Left Riemann = \", leftRiemann)\n",
    "print(\"Right Riemann = \", rightRiemann)\n",
    "print(\"Mid Riemann = \", midRiemann)"
   ]
  },
  {
   "cell_type": "code",
   "execution_count": 8,
   "metadata": {},
   "outputs": [
    {
     "name": "stdout",
     "output_type": "stream",
     "text": [
      "Trapezoid Rule =  21.583893023276122\n"
     ]
    }
   ],
   "source": [
    "a = -1*np.pi\n",
    "b = 2*np.pi\n",
    "n = 27\n",
    "\n",
    "def f(x):\n",
    "    return (np.sin(x))**2 + np.sin(x) + 2\n",
    "\n",
    "lebar = (b-a)/(n-1)\n",
    "\n",
    "x = np.linspace(a, b, n)\n",
    "y = f(x)\n",
    "\n",
    "trapezoid = lebar*(y[0] + y[n-1] + 2*sum(y[1:n-1]))/2\n",
    "\n",
    "print(\"Trapezoid Rule = \", trapezoid)"
   ]
  },
  {
   "cell_type": "code",
   "execution_count": 18,
   "metadata": {},
   "outputs": [
    {
     "name": "stdout",
     "output_type": "stream",
     "text": [
      "m = [1.97463158] ; c = [-0.01426912]\n",
      "y = [1.97463158]x + [-0.01426912]\n",
      "\n",
      "[[ 1.97463158]\n",
      " [-0.01426912]]\n"
     ]
    },
    {
     "data": {
      "text/plain": [
       "[<matplotlib.lines.Line2D at 0x26a695b9ac8>]"
      ]
     },
     "execution_count": 18,
     "metadata": {},
     "output_type": "execute_result"
    },
    {
     "data": {
      "image/png": "[encoded data removed]",
      "text/plain": [
       "<Figure size 640x480 with 1 Axes>"
      ]
     },
     "metadata": {},
     "output_type": "display_data"
    }
   ],
   "source": [
    "x = [1.3604935458559992, 1.5853985257024064, 0.5679347497479994, 0.21802392874941856, 0.06206493009274472, 1.6038707575944073, 1.5373131133875226, 1.4259588903280196, 0.43245973529077086, 0.257850612191316, 0.8605233835228834, 1.2181914607549382, 1.685409170644646, 0.12380139845637994, 0.13435858737521222, 0.4033370073012925, 0.619722978580614, 1.8628033810771025, 0.40953337540132173, 0.30874442757643994, 1.6891968832960647, 1.4690587356094642, 1.0467612052854245, 1.9070607586182264, 0.3931032996568269, 1.5213063293089268, 0.6792243360513193, 1.0368081016233708, 0.6336032973174668, 0.374905103792015, 1.771763274305583, 1.1559028146600263, 0.17306906153876445, 0.40602786961550885, 1.9021950999201134, 0.7404956567184318, 0.9651727271458386, 1.9916255775351712, 0.2532403679742896, 1.2463066512639314, 1.241263902486962, 1.7213322132140918, 1.3414349017801748, 0.8749630082448829, 0.2365239274541533, 0.6619637276533039, 0.14776060842856809, 0.44702252616842086, 0.7825174342129761, 0.6568730252477795]\n",
    "y = [1.8860894486952637, 3.4538075220063913, 0.4326122937324488, -0.16109290897894835, 1.0258216227918515, 2.5614347377115334, 3.9711567124023173, 2.5050179041851806, 0.44187536608782496, 0.32763720038740907, 1.8914749598149787, 2.978721894531936, 2.5263464521598777, 1.2309986450932542, -0.0002015887018562701, 0.40845185338253454, 1.261882153097084, 2.890613004730457, 1.5142607191006958, 1.4558182978954157, 3.0535665102311498, 2.5305265858696826, 2.9943005644276735, 4.775595583754577, 0.2511451686187445, 2.662286088591588, 0.7013711036412655, 1.3574878178829441, 0.45879261586108844, 1.041383576988614, 3.2345537741888895, 2.9442588452869383, 0.32481178798514976, 0.5676922986388366, 4.6507103639541985, 1.9206250787747186, 2.0631617694637643, 4.718498033969695, 0.328918880734296, 2.5468066110409096, 2.56571088586923, 3.1028383540315225, 1.916718978555218, 1.9674896037631926, 0.20908513317900246, 1.3752289600324012, 0.21057773380247213, 1.1962232390302614, 0.7068252906124675, 1.428520921524234]\n",
    "\n",
    "x = np.array(x)\n",
    "y = np.array(y)\n",
    "\n",
    "A = np.vstack((x, np.ones(len(x)))).T\n",
    "y = y[:, np.newaxis]\n",
    "\n",
    "pseudoinverse = np.linalg.pinv(A)\n",
    "alpha = np.dot(pseudoinverse, y)\n",
    "\n",
    "print(f\"m = {alpha[0]} ; c = {alpha[1]}\")\n",
    "print(f\"y = {alpha[0]}x + {alpha[1]}\\n\")\n",
    "print(alpha)\n",
    "\n",
    "plt.plot(x, y, \"o\")\n",
    "plt.plot(x, alpha[0]*x + alpha[1], \"r\")"
   ]
  }
 ],
 "metadata": {
  "kernelspec": {
   "display_name": "Python 3",
   "language": "python",
   "name": "python3"
  },
  "language_info": {
   "codemirror_mode": {
    "name": "ipython",
    "version": 3
   },
   "file_extension": ".py",
   "mimetype": "text/x-python",
   "name": "python",
   "nbconvert_exporter": "python",
   "pygments_lexer": "ipython3",
   "version": "3.7.6"
  },
  "orig_nbformat": 4
 },
 "nbformat": 4,
 "nbformat_minor": 2
}
